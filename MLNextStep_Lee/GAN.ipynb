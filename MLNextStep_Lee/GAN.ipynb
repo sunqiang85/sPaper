{
 "cells": [
  {
   "cell_type": "markdown",
   "metadata": {},
   "source": [
    "# GAN\n",
    "- Typical GAN\n",
    "- Conditional GAN\n",
    "- Unspuervised Conditional GAN"
   ]
  },
  {
   "cell_type": "markdown",
   "metadata": {},
   "source": [
    "# Typical GAN\n",
    "- Fix Generator G, update discriminator D\n",
    "- Fix discriminator\n",
    "\n",
    "- WGAN\n",
    "- Improved WGAN\n",
    "\n",
    "[crypko.ai](https://crypko.ai/#/)"
   ]
  },
  {
   "cell_type": "markdown",
   "metadata": {},
   "source": [
    "## Conditional GAN\n",
    "Text-to-Image\n",
    "- discrimator 同时看c和x：x是不是真实；x和c是不是match\n",
    "- negative sample: 提供真实图片和不匹配的文字\n",
    "\n",
    "解决的问题\n",
    "- Tranditional Approach: Blurry Average Image\n",
    "\n",
    "\n",
    "Image-to-label\n",
    "- multi-label image classifier"
   ]
  },
  {
   "cell_type": "markdown",
   "metadata": {},
   "source": [
    "## Unsupervised Conditional GAN\n",
    "- cycle GAN\n",
    "- Sequence2Sequence 不可微分的问题：\n",
    "    - Gumbel-softmax\n",
    "    - Continous Input for Discriminator\n",
    "    - Reinforcement Learning"
   ]
  },
  {
   "cell_type": "code",
   "execution_count": null,
   "metadata": {
    "collapsed": true
   },
   "outputs": [],
   "source": []
  }
 ],
 "metadata": {
  "kernelspec": {
   "display_name": "Python 3",
   "language": "python",
   "name": "python3"
  },
  "language_info": {
   "codemirror_mode": {
    "name": "ipython",
    "version": 3
   },
   "file_extension": ".py",
   "mimetype": "text/x-python",
   "name": "python",
   "nbconvert_exporter": "python",
   "pygments_lexer": "ipython3",
   "version": "3.6.8"
  }
 },
 "nbformat": 4,
 "nbformat_minor": 2
}
