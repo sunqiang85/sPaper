{
 "cells": [
  {
   "cell_type": "markdown",
   "metadata": {},
   "source": [
    " # 神经网络压缩\n",
    " "
   ]
  },
  {
   "cell_type": "markdown",
   "metadata": {},
   "source": [
    "## Network Pruning\n",
    "- Importance or a weight: L1, L2\n",
    "- Importance of a neuron: zero on a given dataset\n",
    "- Remove\n",
    "- Fine-tuning\n",
    "- Don't prune too much at once"
   ]
  },
  {
   "cell_type": "markdown",
   "metadata": {},
   "source": [
    "# 理论\n",
    "为什么要先训练一个大的network，然后再Prune。而不是直接训练一个小的网络。\n",
    "\n",
    "Why Pruing?\n",
    "Lottery Ticket Hypothesis：通过大网络得到network，prune后得到的小network；如果这个小的network直接训练，则无法train起来。"
   ]
  },
  {
   "cell_type": "markdown",
   "metadata": {},
   "source": [
    "## Knowledge Distillation\n",
    "训练一个大的network作为teacher，小的student network跟着teacher学。通过ensemble的teacher，对single的student model进行训练"
   ]
  },
  {
   "cell_type": "markdown",
   "metadata": {},
   "source": [
    "## Parameter Quantization\n",
    "- weight cluster -> weight table; weight encode\n",
    "- binary weight: network with real value weights; negative gradient(compute on binary weight);最终结果取离最近的binary connect"
   ]
  },
  {
   "cell_type": "markdown",
   "metadata": {},
   "source": [
    "## Achitecture Design\n",
    "- Low rank approximation: (N,M)->(N,k,M)利用较小的中间k，实现Low rank approximation\n",
    "- Depthwise Separable Convolution: SqueezeNet, MobileNet, Xcept"
   ]
  },
  {
   "cell_type": "markdown",
   "metadata": {},
   "source": [
    "## Dynamic Computation\n",
    "在资源多的时候，训练多\n",
    "在资源少的时候，训练少\n",
    "- Train multiple classifiers\n",
    "- Classifiers at the intermedia layers: Multi-Scale Dense Networks"
   ]
  },
  {
   "cell_type": "code",
   "execution_count": null,
   "metadata": {
    "collapsed": true
   },
   "outputs": [],
   "source": []
  }
 ],
 "metadata": {
  "kernelspec": {
   "display_name": "Python 3",
   "language": "python",
   "name": "python3"
  },
  "language_info": {
   "codemirror_mode": {
    "name": "ipython",
    "version": 3
   },
   "file_extension": ".py",
   "mimetype": "text/x-python",
   "name": "python",
   "nbconvert_exporter": "python",
   "pygments_lexer": "ipython3",
   "version": "3.6.8"
  }
 },
 "nbformat": 4,
 "nbformat_minor": 2
}
