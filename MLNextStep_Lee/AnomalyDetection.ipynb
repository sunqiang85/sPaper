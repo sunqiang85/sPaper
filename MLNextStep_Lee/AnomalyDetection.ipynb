{
 "cells": [
  {
   "cell_type": "markdown",
   "metadata": {},
   "source": [
    "# Anomaly Detection"
   ]
  },
  {
   "cell_type": "markdown",
   "metadata": {},
   "source": [
    "## open-set\n",
    "classifier can output unknown.\n",
    "\n",
    "## 训练数据\n",
    "- 训练数据都是正常的\n",
    "- 训练数据中有一小部分是Anomaly"
   ]
  },
  {
   "cell_type": "markdown",
   "metadata": {},
   "source": [
    "## Classifier\n",
    "Classifier在输出分类的同时，输出一个Confidence score\n",
    "- 方法一：Confidence可以采用maximum score\n",
    "- 方法二：Terrance DeVries, Learing Confidence for Out-of-Distribution Detectionin Neural Network\n",
    "- 方法三：Kimin Lee，Training Confidence-calibrated Classifier for Detection Out-of-Distributing ICLR2018"
   ]
  },
  {
   "cell_type": "markdown",
   "metadata": {},
   "source": [
    "# No Classifier\n",
    "有一堆数据，但是没有label\n",
    "- 通过学习得到一个p(x)来代表是x正常的概率。假设数据分布符合gaussian distribution，通过MaxLikehood来求$\\mu$和$\\Sigma$\n",
    "- auto-encoder: 根据reconstruction的效果来判断是否正常或异常\n",
    "- one-class SVM\n",
    "- isolated Forest"
   ]
  },
  {
   "cell_type": "code",
   "execution_count": null,
   "metadata": {
    "collapsed": true
   },
   "outputs": [],
   "source": []
  }
 ],
 "metadata": {
  "kernelspec": {
   "display_name": "Python 3",
   "language": "python",
   "name": "python3"
  },
  "language_info": {
   "codemirror_mode": {
    "name": "ipython",
    "version": 3
   },
   "file_extension": ".py",
   "mimetype": "text/x-python",
   "name": "python",
   "nbconvert_exporter": "python",
   "pygments_lexer": "ipython3",
   "version": "3.6.8"
  }
 },
 "nbformat": 4,
 "nbformat_minor": 2
}
