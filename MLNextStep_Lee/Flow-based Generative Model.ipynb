{
 "cells": [
  {
   "cell_type": "markdown",
   "metadata": {
    "collapsed": true
   },
   "source": [
    "# Generative Models\n",
    "- Component-by-component (Auto-regressive MOdel)\n",
    "- Variational Auto-encoder\n",
    "- Generative Adversarial Network"
   ]
  },
  {
   "cell_type": "markdown",
   "metadata": {},
   "source": [
    "## Generator\n",
    "Generator 是一个产生概率分布的网络"
   ]
  },
  {
   "cell_type": "markdown",
   "metadata": {},
   "source": [
    "# Math Background\n",
    "- Jacobian\n",
    "$$\n",
    "J_f = J_{f^{-1}}^{-1}\n",
    "$$\n",
    "- Determinant\n",
    "$$\n",
    "det(A)=1/det(A^{-1})\n",
    "$$\n",
    "- Change of Variable Theorem\n",
    "$$\n",
    "\\pi(z)\\\\ \n",
    "x=f(z) \\\\\n",
    "p(x) \\\\\n",
    "$$"
   ]
  },
  {
   "cell_type": "markdown",
   "metadata": {},
   "source": [
    "推导可以得到\n",
    "$$\n",
    "p(x^{\\prime}=\\pi(z^{\\prime})|det(I_{J_{f^{-1}}})|\n",
    "$$"
   ]
  },
  {
   "cell_type": "markdown",
   "metadata": {},
   "source": [
    "## Coupling Layer\n",
    "很容易求逆\n",
    "- 部分copy，另一部分基于copy部分的输出进行缩放"
   ]
  },
  {
   "cell_type": "markdown",
   "metadata": {},
   "source": [
    "## GLOW\n",
    "没有使用GAN，产生的效果也很好（虽然比不上GAN）\n",
    "- 使用matrix，对channel进行交换"
   ]
  },
  {
   "cell_type": "code",
   "execution_count": null,
   "metadata": {
    "collapsed": true
   },
   "outputs": [],
   "source": []
  }
 ],
 "metadata": {
  "kernelspec": {
   "display_name": "Python 3",
   "language": "python",
   "name": "python3"
  },
  "language_info": {
   "codemirror_mode": {
    "name": "ipython",
    "version": 3
   },
   "file_extension": ".py",
   "mimetype": "text/x-python",
   "name": "python",
   "nbconvert_exporter": "python",
   "pygments_lexer": "ipython3",
   "version": "3.6.8"
  }
 },
 "nbformat": 4,
 "nbformat_minor": 2
}
