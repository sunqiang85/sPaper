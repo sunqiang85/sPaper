{
 "cells": [
  {
   "cell_type": "markdown",
   "metadata": {},
   "source": [
    "# Life-long Learning\n",
    "几个关键点\n",
    "- Knowledge Retention（but not intransigence）:保留旧知识，同时具备继续学习新知识的能力。\n",
    "- Knowledge Transfer：\n",
    "- Model Expansion：\n"
   ]
  },
  {
   "cell_type": "markdown",
   "metadata": {},
   "source": [
    "## Knowledge Retention\n",
    "- 训练任务1，再训练任务2的结果 差于 同时训练任务1和任务2。\n",
    "- Catastrophic Forgetting：模型具备同时学多个任务的能力，但是模型在分别学时，会遗忘就任务\n",
    "\n",
    "解决方法\n",
    "- Elastic Weight Consolidation (EWC): 有些参数在之前的任务是重要的，在后续的任务中去改动那些不重要的参数。即通过在loss函数上增加一个约束（与之前学习到的参数差，以及一个权重b_i）\n",
    "- 其他方法：Synaptic Intelligence, Memory Aware synapses(MAS)\n",
    "- Generating Data: 不保存数据，保存模型来生成过去任务数据"
   ]
  },
  {
   "cell_type": "markdown",
   "metadata": {},
   "source": [
    "## Knowledge Transfer\n",
    "Transfer Learning：学习了任务1之后，在任务2上可以做的更好\n",
    "Life-Long Learning：学习了任务1之后，在任务2上可以做的更好，同时不疑问任务1\n",
    "\n",
    "### Evaluate for Life-Long Learning\n",
    "- Evaluating Matrix： $E_{i,j}$ after learning task i，the performance on task j\n",
    "\n",
    "### 解决方案\n",
    "Gradient Episodic Memory(GEM)：保存过去任务的gradient，在更新当前任务的gradient时，修正梯度，避免损害过去任务的表现"
   ]
  },
  {
   "cell_type": "markdown",
   "metadata": {},
   "source": [
    "## Model Expansion\n",
    "- Progressive Neural Networks: 任务2的输入来自自身网络前一层，以及Task1网络的前一层\n",
    "- Expert Gate\n",
    "- Net2Net：将一个Neuron分裂成两个Neuron\n",
    "\n",
    "## Curriculum Learning\n",
    "- Learning order\n",
    "- taskonomy：task+taxonomy 任务分类学http://taskonomy.stanford.edu/#abstract\n",
    "\n"
   ]
  },
  {
   "cell_type": "code",
   "execution_count": null,
   "metadata": {
    "collapsed": true
   },
   "outputs": [],
   "source": []
  }
 ],
 "metadata": {
  "kernelspec": {
   "display_name": "Python 3",
   "language": "python",
   "name": "python3"
  },
  "language_info": {
   "codemirror_mode": {
    "name": "ipython",
    "version": 3
   },
   "file_extension": ".py",
   "mimetype": "text/x-python",
   "name": "python",
   "nbconvert_exporter": "python",
   "pygments_lexer": "ipython3",
   "version": "3.6.8"
  }
 },
 "nbformat": 4,
 "nbformat_minor": 2
}
