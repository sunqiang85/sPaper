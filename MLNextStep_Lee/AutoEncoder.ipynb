{
 "cells": [
  {
   "cell_type": "markdown",
   "metadata": {},
   "source": [
    "# AutoEncoder\n",
    "训练一个Discriminator，能够区分embedding和图片是不是一对。如果这个Discriminator的loss非常小，那么这个embedding就不错。Discriminator的参数为$\\Phi$,encoder的参数为$\\theta$,Discriminator的损失为$L_D$，这种方式叫做DIM"
   ]
  },
  {
   "cell_type": "markdown",
   "metadata": {},
   "source": [
    "goal\n",
    "$$\n",
    "\\theta^*=\\arg\\min_\\theta \\min_\\Phi L_D\n",
    "$$\n",
    "autoEncoder其实就是这种定义的一种特殊形式"
   ]
  },
  {
   "cell_type": "markdown",
   "metadata": {},
   "source": [
    "## Sequential Data\n",
    "- 类似的skip thought 预测上下句\n",
    "- Quick thought只使用encoder，加一个classifier，能够判断出是否是\n",
    "- Contrastive Predictive Coding （CPC)"
   ]
  },
  {
   "cell_type": "markdown",
   "metadata": {},
   "source": [
    "## Feature Disentangle\n",
    "- Adversarial Training: 可以让feature的一部分不包含某类信息，含了就容易被分辨出来\n",
    "- 使用instance normalization来remove 全局信息（语者信息）；encoder2通过连接decoder中的AdaIN层增加全局信息"
   ]
  },
  {
   "cell_type": "markdown",
   "metadata": {},
   "source": [
    "## Discrete Representation\n",
    "VQVAE(Vector Quantized Variational Auto-encoder)\n",
    "- codebook\n"
   ]
  },
  {
   "cell_type": "markdown",
   "metadata": {},
   "source": [
    "## 其他形式的embedding vector\n",
    "- Sequence as Embedding:seq2seq2seq\n",
    "- Tree as Embedding"
   ]
  },
  {
   "cell_type": "code",
   "execution_count": null,
   "metadata": {
    "collapsed": true
   },
   "outputs": [],
   "source": []
  },
  {
   "cell_type": "code",
   "execution_count": null,
   "metadata": {
    "collapsed": true
   },
   "outputs": [],
   "source": []
  }
 ],
 "metadata": {
  "kernelspec": {
   "display_name": "Python 3",
   "language": "python",
   "name": "python3"
  },
  "language_info": {
   "codemirror_mode": {
    "name": "ipython",
    "version": 3
   },
   "file_extension": ".py",
   "mimetype": "text/x-python",
   "name": "python",
   "nbconvert_exporter": "python",
   "pygments_lexer": "ipython3",
   "version": "3.6.8"
  }
 },
 "nbformat": 4,
 "nbformat_minor": 2
}
