{
 "cells": [
  {
   "cell_type": "markdown",
   "metadata": {},
   "source": [
    "# Deep Learning的可解释性\n",
    "- 平衡：Explainability v.s.Powerful\n",
    "- 可能的尝试\n",
    "## 局部方法\n",
    "- remove component: 利用一个block遮挡，来确定图片分类中哪些区域是重要的（起到了决定性的作用）\n",
    "- 通过输入的导数（面临 Gradient Saturation），（Attack Interpretation）：Karen Simonyan, Andrea Vedaldi, Andrew Zisserman \"Deep Inside Convolutional Networks: Visualising Image Classification Model and Saliency Maps. ICLR 2014"
   ]
  },
  {
   "cell_type": "markdown",
   "metadata": {
    "collapsed": true
   },
   "source": [
    "## 全局方法\n",
    "- Activation Maximatization：把某个label对应的输出y_i最大化的输入x_i，x_i就是模型心中最像y_i的输入。以数字分类为例，像噪声。可以通过加上一个像数字的限制，比如像素和的负数。\n",
    "- “Regularization” from Generator: 通过Generator的输入z_i，来使得classifier中对应的y_i的最大。因为Generator的限制，使得z_i得到图片不是噪声，而是人可以看懂的（效果不错）。"
   ]
  },
  {
   "cell_type": "markdown",
   "metadata": {},
   "source": [
    "## 用一个模型解释另一个模型\n",
    "用一个可解释的模型去模仿一个不可解释的模型\n",
    "1. LIME（Local Interpretable Model-Agnostic Explanations）类似gradient去解释当前输入对模型的影响，但是不再是一个点，而是周围的sample\n",
    "\n",
    "    1. Give a data point you want to explian\n",
    "    2. Sample at nearby\n",
    "    3. Fit with linear model (or other interpretable models)\n",
    "    4. interpret the linear model\n",
    "2. Decision Tree: 用一个深度有限的Decision Tree去解释这个黑盒子\n",
    "    1. 训练网络时，就考虑需要容易被Decision Tree去解释（增加转化为Decision Tree后的复杂度）\n",
    "    2. Decision Tree的复杂度如何微分呢？（增加一个前馈网络将模型预测树的深度）"
   ]
  },
  {
   "cell_type": "markdown",
   "metadata": {},
   "source": []
  },
  {
   "cell_type": "code",
   "execution_count": null,
   "metadata": {
    "collapsed": true
   },
   "outputs": [],
   "source": []
  }
 ],
 "metadata": {
  "kernelspec": {
   "display_name": "Python 3",
   "language": "python",
   "name": "python3"
  },
  "language_info": {
   "codemirror_mode": {
    "name": "ipython",
    "version": 3
   },
   "file_extension": ".py",
   "mimetype": "text/x-python",
   "name": "python",
   "nbconvert_exporter": "python",
   "pygments_lexer": "ipython3",
   "version": "3.6.8"
  }
 },
 "nbformat": 4,
 "nbformat_minor": 2
}
