{
 "cells": [
  {
   "cell_type": "markdown",
   "metadata": {},
   "source": [
    "# Attack ML Model\n",
    "- Non-target Attack：希望输出和真实label距离越远越好\n",
    "- Targeted Attack：希望输出和某一个错误的label距离越近越好\n",
    "- Constraint: 所加的噪声非常的小，L2-norm，L-infinity\n"
   ]
  },
  {
   "cell_type": "markdown",
   "metadata": {},
   "source": [
    "How to Attack\n",
    "$$\n",
    "x^*= \\arg\\min_{d(x_0,x^\\prime)\\le \\epsilon}L(x^\\prime)\n",
    "$$"
   ]
  },
  {
   "cell_type": "markdown",
   "metadata": {},
   "source": [
    "# White box\n",
    "## 方法一 fix\n",
    "当找到的x不满足约束时，寻找满足约束与$x_t$最接近的点来替代$x_t$"
   ]
  },
  {
   "cell_type": "markdown",
   "metadata": {},
   "source": [
    "## 方法二 \n",
    "Fast Gradient Sign Method（FGSM）：对于$\\frac{\\partial{L}}{\\partial{x}}$，根据正负，替换成+1，-1，本质上是learning rate非常大的fix方法。"
   ]
  },
  {
   "cell_type": "markdown",
   "metadata": {},
   "source": [
    "# Black Box\n",
    "不知道模型参数\n",
    "- 假设知道目标模型的训练数据，比如imagenet，重新训练一个Proxy Network，对proxy找到Attacked Object，往往也是目标模型的Attacked Object\n"
   ]
  },
  {
   "cell_type": "markdown",
   "metadata": {},
   "source": [
    "## Universal Adversarial Attack\n",
    "- 找到一个universal的噪声，可以大概率攻击很多模型\n",
    "- 找到一个universal的噪声，可以改变原有network的功能，比如让imagenet的分类网络变成数方块的网络"
   ]
  },
  {
   "cell_type": "markdown",
   "metadata": {},
   "source": [
    "# 防御\n",
    "两大类防御手段：\n",
    "- Passive defense： 过滤/检测出是attack image。过滤器smooth；对图片做细微处理，如果辨识结果变化很大，那就可能是attack image\n",
    "\n",
    "\n",
    "- Proactive defense： 训练出对adversarial attack非常robust的模型，即先找出attack data，加入到新的数据中\n"
   ]
  },
  {
   "cell_type": "code",
   "execution_count": null,
   "metadata": {
    "collapsed": true
   },
   "outputs": [],
   "source": []
  }
 ],
 "metadata": {
  "kernelspec": {
   "display_name": "Python 3",
   "language": "python",
   "name": "python3"
  },
  "language_info": {
   "codemirror_mode": {
    "name": "ipython",
    "version": 3
   },
   "file_extension": ".py",
   "mimetype": "text/x-python",
   "name": "python",
   "nbconvert_exporter": "python",
   "pygments_lexer": "ipython3",
   "version": "3.6.8"
  }
 },
 "nbformat": 4,
 "nbformat_minor": 2
}
